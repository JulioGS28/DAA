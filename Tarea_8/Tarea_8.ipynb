{
  "nbformat": 4,
  "nbformat_minor": 0,
  "metadata": {
    "colab": {
      "name": "Tarea_8.ipynb",
      "provenance": []
    },
    "kernelspec": {
      "name": "python3",
      "display_name": "Python 3"
    },
    "language_info": {
      "name": "python"
    }
  },
  "cells": [
    {
      "cell_type": "code",
      "metadata": {
        "colab": {
          "base_uri": "https://localhost:8080/"
        },
        "id": "_O_iYicw4QZe",
        "outputId": "c1592845-0cc5-4cdc-c7f5-2962db03f790"
      },
      "source": [
        "cifrado = \"zg gzhv lpz vidhv v gv pidqzmndyvy ivxdjivg, kjm hd mvuv cvwgvmá zg znkímdop, mzqzgv gv qjxvxdói cphviínodxv xji gv lpz apz xjixzwdyv. zg vpojm yz znov xégzwmz amvnz, ejné qvnxjixzgjn, vnphdó gv mzxojmív zi 1920, zi piv ékjxv zi lpz gvn znkzmviuvn yz gv mzqjgpxdói vúi znovwvi qdqvn, cvwív piv bmvi aé zi gv kvomdv t zg áidhj mzyziojm nz zsoziyív zi zg vhwdzioz.\"\n",
        "#cifrado = \"dwdfdu\"\n",
        "alfabeto = \"abcdefghijklmnopqrstuvwxyz\"\n",
        "sp = [\"ba\",\"be\",\"bi\",\"bo\",\"bu\",\"ca\",\"ce\",\"ci\",\"co\",\"cu\",\"car\",\"cer\",\"cir\",\"cur\",\"da\",\"de\",\"di\",\"do\",\"du\",\"fa\",\"fe\",\"fi\",\"fo\",\"fu\",\"ga\",\"ge\",\"gui\",\"gue\",\"gi\",\"go\",\"gu\",\"ha\",\"he\",\"hi\",\"ho\",\"hu\",\"ja\",\"je\",\"ji\",\"jo\",\"ju\",\"ka\",\"ke\",\"ki\",\"ko\",\"ku\",\"la\",\"le\",\"li\",\"lo\",\"lu\",\"ma\",\"me\",\"mi\",\"mo\",\"mu\",\"na\",\"ne\",\"ni\",\"no\",\"nu\",\"pa\",\"pe\",\"pi\",\"po\",\"pu\",\"que\",\"qui\",\"ra\",\"re\",\"ri\",\"ro\",\"ru\",\"rre\",\"rri\",\"rro\",\"rru\",\"sa\",\"se\",\"si\",\"su\",\"so\",\"ta\",\"te\",\"ti\",\"to\",\"tu\",\"va\",\"ve\",\"vi\",\"vo\",\"vu\",\"ya\",\"ye\",\"yi\",\"yo\",\"yu\",\"za\",\"ze\",\"zi\",\"zo\",\"zu\"]\n",
        "txt = [] # Lista para almacenar los carcarteres \n",
        "final = [] \n",
        "n = (len(cifrado))  \n",
        "# llave ¿Cuantas posiciones de corrimiento?\n",
        "\n",
        "for llave in range(1,len(alfabeto)+1):\n",
        "  for i in range(len(cifrado)):\n",
        "    if (cifrado[i] in alfabeto): \n",
        "      #print(alfabeto.index(cifrado[i]), end = \" \")\n",
        "      index = alfabeto.index(cifrado[i])\n",
        "      txt.append(alfabeto[(index + llave) % 26 ])\n",
        "      \n",
        "    else:\n",
        "      txt.append(cifrado[i])\n",
        "\n",
        "mayor = 0\n",
        "nsilaba = [] # Lista para almacenar la suma total de silibas encontradas de la frase\n",
        "\n",
        "for j in range(llave):\n",
        "  final.append(txt[n*j:n*(j+1):])\n",
        "  final[j] = \"\".join(final[j])\n",
        "  A = final[j]\n",
        "  P = sp\n",
        "  \n",
        "  con = [] # Lista que nos ayudara a almacenar las silibas encontradas\n",
        "\n",
        "  # Buscador de silibas en la frase\n",
        "  for c in range (len(P)):\n",
        "    contador = 0\n",
        "    P1 = P[c]\n",
        "    for m in range( len(A) - len(P1) + 1):\n",
        "      for l in range(len(P1)):\n",
        "        if P1[l] == A[m+l]:\n",
        "          pass\n",
        "        else:\n",
        "          break\n",
        "      if l+1 == len(P1) and A[m+l] == P1[l]:\n",
        "        contador = contador + 1\n",
        "          \n",
        "    con.append(contador)\n",
        "  suma = sum(con)\n",
        "  nsilaba.append(suma)\n",
        "  #print(nsilaba[j],final[j])\n",
        "# Buscar la frase que tiene mayor numero de silbas \n",
        "for x in range(llave):\n",
        "  if nsilaba[x] > mayor:\n",
        "    mayor  = nsilaba[x]\n",
        "    con2 = x\n",
        "print(final[con2])"
      ],
      "execution_count": 13,
      "outputs": [
        {
          "output_type": "stream",
          "name": "stdout",
          "text": [
            "el lema que anima a la universidad nacional, por mi raza hablará el espíritu, revela la vocación humanística con la que fue concebida. el autor de esta célebre frase, josé vasconcelos, asumió la rectoría en 1920, en una época en que las esperanzas de la revolución aún estaban vivas, había una gran fé en la patria y el ánimo redentor se extendía en el ambiente.\n"
          ]
        }
      ]
    }
  ]
}