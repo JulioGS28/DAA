{
  "nbformat": 4,
  "nbformat_minor": 0,
  "metadata": {
    "colab": {
      "name": "EDD_BigO_1511.ipynb",
      "provenance": []
    },
    "kernelspec": {
      "name": "python3",
      "display_name": "Python 3"
    },
    "language_info": {
      "name": "python"
    }
  },
  "cells": [
    {
      "cell_type": "code",
      "metadata": {
        "id": "4r9MfRquEtLE"
      },
      "source": [
        "# Arboles binarios\n",
        "\n",
        "#arbol binario de busqueda"
      ],
      "execution_count": null,
      "outputs": []
    },
    {
      "cell_type": "code",
      "metadata": {
        "id": "NcFAJ6xjLwba"
      },
      "source": [
        "class NodoArbol:\n",
        "  def __init__(self,value,left=None,rigth=None):\n",
        "    self.data = value\n",
        "    self.left = left\n",
        "    self.rigth = rigth\n",
        "  \n",
        "class ArbolBB:\n",
        "  def __init__(self):\n",
        "    pass\n",
        "    # pausa y vamos a comprender el uso de NodoArbol"
      ],
      "execution_count": 1,
      "outputs": []
    },
    {
      "cell_type": "code",
      "metadata": {
        "colab": {
          "base_uri": "https://localhost:8080/"
        },
        "id": "m3Uh5qxGNZMw",
        "outputId": "eaee5304-0894-40aa-8b49-9e845c85eaf9"
      },
      "source": [
        "raiz = NodoArbol(60,None,None)\n",
        "raiz.left = NodoArbol(40,None,None)\n",
        "print(raiz.left.data)\n",
        "\n",
        "# lo mismo pero como programador Ninja\n",
        "raiz = NodoArbol(60,NodoArbol(40),None)\n",
        "print(raiz.left.data)\n",
        "\n",
        "raiz = NodoArbol(60, NodoArbol(40, NodoArbol(30)),NodoArbol(70))\n",
        "print(raiz.left.data)"
      ],
      "execution_count": 3,
      "outputs": [
        {
          "output_type": "stream",
          "name": "stdout",
          "text": [
            "40\n",
            "40\n",
            "40\n"
          ]
        }
      ]
    }
  ]
}