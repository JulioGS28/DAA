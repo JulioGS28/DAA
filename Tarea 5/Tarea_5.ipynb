{
  "nbformat": 4,
  "nbformat_minor": 0,
  "metadata": {
    "colab": {
      "name": "Tarea 5.ipynb",
      "provenance": []
    },
    "kernelspec": {
      "name": "python3",
      "display_name": "Python 3"
    },
    "language_info": {
      "name": "python"
    }
  },
  "cells": [
    {
      "cell_type": "code",
      "metadata": {
        "colab": {
          "base_uri": "https://localhost:8080/"
        },
        "id": "Twdl-rdzOb5J",
        "outputId": "9dfd1d79-3757-470e-c291-46d256437dfb"
      },
      "source": [
        "d = float(input(\"Ingrese una cantidad de dinero: \")) #O(1) #O(1)\n",
        "\n",
        "def monto(lista,dinero): # O(0) #O(0)\n",
        "  x = dinero # O(4) O(1)\n",
        "  for i in range(len(lista)): # O(9*4=36) O(na)\n",
        "    if x >= lista[i]: # O(9*4 = 36) O(n*n)\n",
        "      y = x//lista[i] # O(2*4) O(n)\n",
        "      print(int(y),(\"Billetes de:\" if x > 10 else \"Monedas de:\"),lista[i]) # O((1*9 + 2*4) = 15) O(3n)\n",
        "      x = x - (y * lista[i]) # O(4*3) O(n)\n",
        "  return i\n",
        "\n",
        "\n",
        "denominacion = [500,200,100,50,20,10,5,1,0.5]\n",
        "v = monto(denominacion,d)\n",
        "print(\"Moviemientos realizados:\",v)\n",
        "\n",
        "#Memoria  O(4+36+36+8+15+12) --> O(111)\n",
        "#Procesador O(1 + 5n) --> O(n+1)"
      ],
      "execution_count": 89,
      "outputs": [
        {
          "output_type": "stream",
          "name": "stdout",
          "text": [
            "Ingrese una cantidad de dinero: 459\n",
            "2 Billetes de: 200\n",
            "1 Billetes de: 50\n",
            "1 Monedas de: 5\n",
            "4 Monedas de: 1\n",
            "Moviemientos realizados: 8\n"
          ]
        }
      ]
    }
  ]
}