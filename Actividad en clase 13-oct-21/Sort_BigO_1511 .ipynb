{
  "nbformat": 4,
  "nbformat_minor": 0,
  "metadata": {
    "colab": {
      "name": "Sort_BigO_1511.ipynb",
      "provenance": []
    },
    "kernelspec": {
      "name": "python3",
      "display_name": "Python 3"
    },
    "language_info": {
      "name": "python"
    }
  },
  "cells": [
    {
      "cell_type": "markdown",
      "metadata": {
        "id": "qyFrXVz0J7sL"
      },
      "source": [
        "# Bubble sort"
      ]
    },
    {
      "cell_type": "code",
      "metadata": {
        "colab": {
          "base_uri": "https://localhost:8080/"
        },
        "id": "oA4hnC8PKDBs",
        "outputId": "d4250735-3df1-483c-c778-bc20f09a465a"
      },
      "source": [
        "#info = [8,5,9,3]\n",
        "info = [4,5,65,67,23,123,456,789,55,33,21,23,445,0]\n",
        "\n",
        "def burbuja( data ): # O(n) O(1)\n",
        "  tam = len(data) # O(1) O(1)\n",
        "  for tope in range(tam - 1,0,-1): # O(1) O(na)                # range (3,0,-1)\n",
        "    for pivote in range(tope): # O(1) O(na)\n",
        "      if data[pivote] > data [pivote + 1 ]: # O(na) O(na)\n",
        "        data[pivote],data[pivote+1] = data[pivote+1],data[pivote] # O(0) O(2n^2)\n",
        "    print(f\"--> {data} <--\")\n",
        "  return data # O(0) O(1)\n",
        "\n",
        "# M O(n) P O(n^2)\n",
        "\n",
        "burbuja(info)"
      ],
      "execution_count": null,
      "outputs": [
        {
          "output_type": "stream",
          "name": "stdout",
          "text": [
            "--> [5, 8, 3, 9] <--\n",
            "--> [5, 3, 8, 9] <--\n",
            "--> [3, 5, 8, 9] <--\n"
          ]
        },
        {
          "output_type": "execute_result",
          "data": {
            "text/plain": [
              "[3, 5, 8, 9]"
            ]
          },
          "metadata": {},
          "execution_count": 24
        }
      ]
    },
    {
      "cell_type": "markdown",
      "metadata": {
        "id": "P1f0JMN6Wl3D"
      },
      "source": [
        "# Selection Sort\n"
      ]
    },
    {
      "cell_type": "code",
      "metadata": {
        "colab": {
          "base_uri": "https://localhost:8080/"
        },
        "id": "No7IUkxOWrbJ",
        "outputId": "0ba75f4b-5763-4154-de07-ddbc32f2e5f1"
      },
      "source": [
        "#info = [8,5,9,3]\n",
        "info = [4,5,65,67,23,123,456,789,55,33,21,23,445,0]\n",
        "\n",
        "def selection_sort (data): #M O(n) P O(1)\n",
        "  for pivote in range(len(data)): #M O(0) P O(1)\n",
        "    min = pivote # Posicion del menor  \n",
        "    for index in range(pivote , len(data), 1): #M O(1) P O(na)\n",
        "      if data[index] < data[min] : #M O(0) P O(na)\n",
        "        min = index #M O(0) P O( 1 n^2)\n",
        "    data[pivote], data[min] = data[min], data[pivote] #M O(0) P O( 2n) \n",
        "    print(f\"--> {data} <--\") #M O(0) P O(0)\n",
        "  return data #M O(0) P O(1)\n",
        "  \n",
        "#M O(n+1+1+1) P O(n+1n^2+2n+1)\n",
        "#M O(n) P O(n^2)  \n",
        "print(selection_sort(info))\n"
      ],
      "execution_count": null,
      "outputs": [
        {
          "output_type": "stream",
          "name": "stdout",
          "text": [
            "--> [0, 5, 65, 67, 23, 123, 456, 789, 55, 33, 21, 23, 445, 4] <--\n",
            "--> [0, 4, 65, 67, 23, 123, 456, 789, 55, 33, 21, 23, 445, 5] <--\n",
            "--> [0, 4, 5, 67, 23, 123, 456, 789, 55, 33, 21, 23, 445, 65] <--\n",
            "--> [0, 4, 5, 21, 23, 123, 456, 789, 55, 33, 67, 23, 445, 65] <--\n",
            "--> [0, 4, 5, 21, 23, 123, 456, 789, 55, 33, 67, 23, 445, 65] <--\n",
            "--> [0, 4, 5, 21, 23, 23, 456, 789, 55, 33, 67, 123, 445, 65] <--\n",
            "--> [0, 4, 5, 21, 23, 23, 33, 789, 55, 456, 67, 123, 445, 65] <--\n",
            "--> [0, 4, 5, 21, 23, 23, 33, 55, 789, 456, 67, 123, 445, 65] <--\n",
            "--> [0, 4, 5, 21, 23, 23, 33, 55, 65, 456, 67, 123, 445, 789] <--\n",
            "--> [0, 4, 5, 21, 23, 23, 33, 55, 65, 67, 456, 123, 445, 789] <--\n",
            "--> [0, 4, 5, 21, 23, 23, 33, 55, 65, 67, 123, 456, 445, 789] <--\n",
            "--> [0, 4, 5, 21, 23, 23, 33, 55, 65, 67, 123, 445, 456, 789] <--\n",
            "--> [0, 4, 5, 21, 23, 23, 33, 55, 65, 67, 123, 445, 456, 789] <--\n",
            "--> [0, 4, 5, 21, 23, 23, 33, 55, 65, 67, 123, 445, 456, 789] <--\n",
            "[0, 4, 5, 21, 23, 23, 33, 55, 65, 67, 123, 445, 456, 789]\n"
          ]
        }
      ]
    },
    {
      "cell_type": "markdown",
      "metadata": {
        "id": "Nu0444Fjzuxo"
      },
      "source": [
        "# Insertion Sort\n",
        "Como cuando juegas cartas"
      ]
    },
    {
      "cell_type": "code",
      "metadata": {
        "id": "kqh-lLeMz39N",
        "colab": {
          "base_uri": "https://localhost:8080/"
        },
        "outputId": "23bf8cb0-675d-45c4-8e94-3040bdca621d"
      },
      "source": [
        "\n",
        "def insertion_sort (data): # M O(n) P O(1)\n",
        "  print(f\"original {data}\") # M O(0) P O(n^2)\n",
        "  # toda la logica de Insertion sort \n",
        "  for pivote in range(1,len(data),1): # M O(1) P O(na)\n",
        "    for index in range(0,pivote+1,1): # M O(1) P O(na)\n",
        "      if data[pivote] < data[index]: # M O(0) P O(na)\n",
        "        tmp = data[pivote] # M O(1) P O(n)\n",
        "        # recorrer a la derecha \n",
        "        for i in range(pivote, index,-1): # M O(1) P O(na)\n",
        "          data[i] = data[i-1] # M O(0) P O(n*n)\n",
        "        data[index] = tmp # M O(0) P O(n)\n",
        "    print(f\"posicion {pivote} --> {data} <--\") # M O(0) P O(1)    \n",
        "  return data # M O(0) P O(1)\n",
        "\n",
        "# M O(n+4) P O(4+2n+n*m)\n",
        "# M O(n) P O(n^2)\n",
        "\n",
        "info = [10,51,2,18,4,31,12,5]\n",
        "\n",
        "print(insertion_sort(info))"
      ],
      "execution_count": 10,
      "outputs": [
        {
          "output_type": "stream",
          "name": "stdout",
          "text": [
            "original [10, 51, 2, 18, 4, 31, 12, 5]\n",
            "posicion 1 --> [10, 51, 2, 18, 4, 31, 12, 5] <--\n",
            "posicion 2 --> [2, 10, 51, 18, 4, 31, 12, 5] <--\n",
            "posicion 3 --> [2, 10, 18, 51, 4, 31, 12, 5] <--\n",
            "posicion 4 --> [2, 4, 10, 18, 51, 31, 12, 5] <--\n",
            "posicion 5 --> [2, 4, 10, 18, 31, 51, 12, 5] <--\n",
            "posicion 6 --> [2, 4, 10, 12, 18, 31, 51, 5] <--\n",
            "posicion 7 --> [2, 4, 5, 10, 12, 18, 31, 51] <--\n",
            "[2, 4, 5, 10, 12, 18, 31, 51]\n"
          ]
        }
      ]
    }
  ]
}