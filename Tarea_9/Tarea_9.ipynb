{
  "nbformat": 4,
  "nbformat_minor": 0,
  "metadata": {
    "colab": {
      "name": "Tarea 9.ipynb",
      "provenance": []
    },
    "kernelspec": {
      "name": "python3",
      "display_name": "Python 3"
    },
    "language_info": {
      "name": "python"
    }
  },
  "cells": [
    {
      "cell_type": "code",
      "metadata": {
        "colab": {
          "base_uri": "https://localhost:8080/"
        },
        "id": "-wMmFFEJnXuY",
        "outputId": "0c8a64c2-44ef-4a04-d548-a53939abd88c"
      },
      "source": [
        "def particion(lista,I,D):\n",
        "  p = lista[I]\n",
        "  menor = I + 1 \n",
        "  mayor = D\n",
        "\n",
        "  while True: #Comparamos los elementos a los que apuntan los punteros I y D\n",
        "    \n",
        "    while menor <= mayor and lista[menor] <= p: #El numero es menor al pivote y menor al puntero D\n",
        "      menor += 1\n",
        "    while menor <= mayor and lista[mayor] >= p: #El numero es mayor al pivote y mayor al puntero I\n",
        "      mayor -= 1\n",
        "    if mayor < menor:\n",
        "      break\n",
        "    else:\n",
        "      lista[menor],lista[mayor] = lista[mayor], lista[menor]  \n",
        "  lista[I], lista[mayor] = lista[mayor], lista[I]\n",
        "  return mayor # Puntero donde se divide la lista despues de los cambios\n",
        "\n",
        "def quicksort(lista,I,D): # Funcion recursiva\n",
        "  if I < D:\n",
        "    p = particion(lista,I,D)\n",
        "    quicksort(lista,I,p-1)\n",
        "    quicksort(lista,p+1,D)\n",
        "  \n",
        "  \n",
        " \n",
        "\n",
        "A= [56,3,34,7,84,3,45,67,32,4,98,54]\n",
        "\n",
        "quicksort(A,0,len(A)-1)\n",
        "print(A)\n"
      ],
      "execution_count": 7,
      "outputs": [
        {
          "output_type": "stream",
          "name": "stdout",
          "text": [
            "[3, 3, 4, 7, 32, 34, 45, 54, 56, 67, 84, 98]\n"
          ]
        }
      ]
    },
    {
      "cell_type": "code",
      "metadata": {
        "id": "y6-kpLNa1zby"
      },
      "source": [
        ""
      ],
      "execution_count": null,
      "outputs": []
    }
  ]
}