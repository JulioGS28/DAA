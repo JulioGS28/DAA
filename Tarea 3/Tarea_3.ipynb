{
  "nbformat": 4,
  "nbformat_minor": 0,
  "metadata": {
    "colab": {
      "name": "Tarea 3.ipynb",
      "provenance": [],
      "collapsed_sections": []
    },
    "kernelspec": {
      "name": "python3",
      "display_name": "Python 3"
    },
    "language_info": {
      "name": "python"
    }
  },
  "cells": [
    {
      "cell_type": "code",
      "metadata": {
        "colab": {
          "base_uri": "https://localhost:8080/"
        },
        "id": "SKGN5IAE44xI",
        "outputId": "5fdc88c2-25ea-43cc-ef25-e6bb84cbabf9"
      },
      "source": [
        "lista = [1,2,3]\n",
        "\n",
        "n = 0\n",
        "i = 0\n",
        "\n",
        "print(\"Lista:\" + str(lista) )\n",
        "for j in range(0,9):\n",
        "  \n",
        "  \n",
        "  if j < 3:\n",
        "    print(lista[0], lista[j])\n",
        "    \n",
        "  else:\n",
        "    if j >= 3 and j < 6:\n",
        "       \n",
        "       print(lista[1], lista[n])\n",
        "       n = n+1\n",
        "    else:\n",
        "      if j >= 6 and j < 9:\n",
        "\n",
        "        print(lista[2], lista[i])\n",
        "        i = i+1\n",
        "\n",
        "print(\"Numero de combinaciones: \" + str(contador))          \n",
        "  "
      ],
      "execution_count": 163,
      "outputs": [
        {
          "output_type": "stream",
          "name": "stdout",
          "text": [
            "Lista:[1, 2, 3]\n",
            "1 1\n",
            "1 2\n",
            "1 3\n",
            "2 1\n",
            "2 2\n",
            "2 3\n",
            "3 1\n",
            "3 2\n",
            "3 3\n",
            "Numero de combinaciones: 8\n"
          ]
        }
      ]
    }
  ]
}