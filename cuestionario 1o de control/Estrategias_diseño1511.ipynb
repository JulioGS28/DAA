{
  "nbformat": 4,
  "nbformat_minor": 0,
  "metadata": {
    "colab": {
      "name": "Estrategias_diseño1511.ipynb",
      "provenance": []
    },
    "kernelspec": {
      "name": "python3",
      "display_name": "Python 3"
    },
    "language_info": {
      "name": "python"
    }
  },
  "cells": [
    {
      "cell_type": "markdown",
      "metadata": {
        "id": "mpGEdq8-cJBM"
      },
      "source": [
        "### Busqueda de patrones de texto"
      ]
    },
    {
      "cell_type": "code",
      "metadata": {
        "id": "8_breo6RVykm",
        "colab": {
          "base_uri": "https://localhost:8080/"
        },
        "outputId": "dce9f1a5-2b85-4cdc-bcb6-db67eca05087"
      },
      "source": [
        "\n",
        "def string_match_brute(A,P):\n",
        "  for i in range( len(A) - len(P) + 1):\n",
        "    for j in range(len(P)):\n",
        "      if P[j] == A[i+j]:\n",
        "        pass\n",
        "      else:\n",
        "        break\n",
        "    if j+1 == len(P) and A[i+j] == P[j]:\n",
        "      print(f\"Se encontro en la posicion {i}\")\n",
        "  \n",
        "entrada = \"0011100101011011101\"\n",
        "patron = \"01101\"\n",
        "string_match_brute(entrada,patron)\n",
        "\n"
      ],
      "execution_count": 13,
      "outputs": [
        {
          "output_type": "stream",
          "name": "stdout",
          "text": [
            "Se encontro en la posicion 10\n"
          ]
        }
      ]
    }
  ]
}