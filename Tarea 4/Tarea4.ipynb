{
  "nbformat": 4,
  "nbformat_minor": 0,
  "metadata": {
    "colab": {
      "name": "Tarea4.ipynb",
      "provenance": []
    },
    "kernelspec": {
      "name": "python3",
      "display_name": "Python 3"
    },
    "language_info": {
      "name": "python"
    }
  },
  "cells": [
    {
      "cell_type": "code",
      "metadata": {
        "id": "O0xSeooBzKwo",
        "colab": {
          "base_uri": "https://localhost:8080/"
        },
        "outputId": "04123b28-b282-452c-c2ff-690e8781dd00"
      },
      "source": [
        "def funcion_1(lista,lista2,lista3,lista4): #Hora(lista1,lista2):#Minutos(lista3,lista4)\n",
        "  contador=0\n",
        "  for x in lista:\n",
        "    for y in lista2:\n",
        "      for z in lista3:\n",
        "        for m in lista4:\n",
        "          if x==m and y==z:\n",
        "            suma= x+y\n",
        "            if suma<6:  \n",
        "              x1 = str(x)\n",
        "              y1 = str(y)\n",
        "              z1 = str(z)\n",
        "              m1 = str(m)\n",
        "              print(x1+y1+\":\"+z1+m1)\n",
        "              contador += 1\n",
        "  return contador\n",
        "\n",
        "a=[0,1,2]\n",
        "b=[0,1,2,3,4,5,6,7,8,9]\n",
        "c=[0,1,2,3,4,5,]\n",
        "d=[0,1,2,3,4,5,6,7,8,9]\n",
        "print(\"Palindromos existentes:\")\n",
        "f = funcion_1(a,b,c,d)\n",
        "print(\"Numero de palindromos:\", f)"
      ],
      "execution_count": 87,
      "outputs": [
        {
          "output_type": "stream",
          "name": "stdout",
          "text": [
            "Palindromos existentes:\n",
            "00:00\n",
            "01:10\n",
            "02:20\n",
            "03:30\n",
            "04:40\n",
            "05:50\n",
            "10:01\n",
            "11:11\n",
            "12:21\n",
            "13:31\n",
            "14:41\n",
            "20:02\n",
            "21:12\n",
            "22:22\n",
            "23:32\n",
            "Numero de palindromos: 15\n"
          ]
        }
      ]
    }
  ]
}