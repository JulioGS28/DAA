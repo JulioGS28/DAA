{
  "nbformat": 4,
  "nbformat_minor": 0,
  "metadata": {
    "colab": {
      "name": "BigO_Intro.ipynb",
      "provenance": []
    },
    "kernelspec": {
      "name": "python3",
      "display_name": "Python 3"
    },
    "language_info": {
      "name": "python"
    }
  },
  "cells": [
    {
      "cell_type": "code",
      "metadata": {
        "id": "fqH0xucbdxrn"
      },
      "source": [
        "def suma(num):\n",
        "    suma = 0\n",
        "    for i in range(num +1 ):\n",
        "        suma += i\n",
        "    print(suma)"
      ],
      "execution_count": null,
      "outputs": []
    },
    {
      "cell_type": "code",
      "metadata": {
        "colab": {
          "base_uri": "https://localhost:8080/"
        },
        "id": "VzS7RtTsePmt",
        "outputId": "182ed0da-a281-42c3-c826-2054362a6d51"
      },
      "source": [
        "import time\n",
        "time.time()\n",
        "marca1 = time.time()\n",
        "n = 3\n",
        "suma(n)\n",
        "marca2 = time.time()\n",
        "print(marca2 - marca1)"
      ],
      "execution_count": null,
      "outputs": [
        {
          "output_type": "stream",
          "name": "stdout",
          "text": [
            "6\n",
            "0.00010728836059570312\n"
          ]
        }
      ]
    },
    {
      "cell_type": "code",
      "metadata": {
        "id": "Wh6cWmwheo5L"
      },
      "source": [
        "def sumaNumeros(n):\n",
        "    if (n == 0):\n",
        "        return 0\n",
        "    else: \n",
        "        return n+sumaNumeros(n-1)"
      ],
      "execution_count": null,
      "outputs": []
    },
    {
      "cell_type": "code",
      "metadata": {
        "colab": {
          "base_uri": "https://localhost:8080/"
        },
        "id": "d4QpVt_BequF",
        "outputId": "4cd610c6-8a4b-4322-af9d-7101eb8ef6e4"
      },
      "source": [
        "import time\n",
        "time.time()\n",
        "marca = time.time()\n",
        "n = 3\n",
        "sumaNumeros(n)\n",
        "marca2 = time.time()\n",
        "print(marca2 - marca)"
      ],
      "execution_count": null,
      "outputs": [
        {
          "output_type": "stream",
          "name": "stdout",
          "text": [
            "4.5299530029296875e-05\n"
          ]
        }
      ]
    },
    {
      "cell_type": "markdown",
      "metadata": {
        "id": "5txca7p2il7f"
      },
      "source": [
        "#Ejercicio 2"
      ]
    },
    {
      "cell_type": "code",
      "metadata": {
        "colab": {
          "base_uri": "https://localhost:8080/"
        },
        "id": "D34L7MdMiUr-",
        "outputId": "b0055778-50a1-4f2e-c3c6-3e56b0525cce"
      },
      "source": [
        "numeros = [1,2,3]\n",
        "\n",
        "def unaFuncionCualquiera( lista ):\n",
        "    conteo = 0 # Orden 1\n",
        "    for numero1 in lista:\n",
        "        for numero2 in lista:\n",
        "            print(numero1 , numero2 ) #O(n^2)\n",
        "            conteo += 1 #O(n^2)\n",
        "    return conteo\n",
        "# O(1 + 2n^2)\n",
        "# O(n^2)\n",
        "\n",
        "conteo = unaFuncionCualquiera(numeros)\n",
        "\n",
        "print( \"Final:\" , conteo)"
      ],
      "execution_count": null,
      "outputs": [
        {
          "output_type": "stream",
          "name": "stdout",
          "text": [
            "1 1\n",
            "1 2\n",
            "1 3\n",
            "2 1\n",
            "2 2\n",
            "2 3\n",
            "3 1\n",
            "3 2\n",
            "3 3\n",
            "Final: 9\n"
          ]
        }
      ]
    },
    {
      "cell_type": "markdown",
      "metadata": {
        "id": "REXaYHKBis7g"
      },
      "source": [
        "#Ejercicio 3.1 \n",
        "Modificar el anterior para que: \n",
        "- Sume los elemento de la lista y muestre el resultado"
      ]
    },
    {
      "cell_type": "code",
      "metadata": {
        "colab": {
          "base_uri": "https://localhost:8080/"
        },
        "id": "vm1Avh-yjIW_",
        "outputId": "351a8ff9-6e96-4336-bc4d-761e1c043162"
      },
      "source": [
        "numeros = [1,2,3]\n",
        "\n",
        "def unaFuncionCualquiera( lista ):\n",
        "    conteo = 0 #o(1)\n",
        "    suma = 0  #o(1)\n",
        "    for num in lista:\n",
        "        suma += num #o(n)\n",
        "    print(f\"La sumatoria de los numeros en la lista es={ suma } \")#O(1)\n",
        "\n",
        "    for numero1 in lista:\n",
        "        for numero2 in lista:\n",
        "            print(numero1 , numero2 ) #O(n^2)\n",
        "            conteo += 1 # O(n^2)\n",
        "    return conteo\n",
        "# o(3+n+2n^2)\n",
        "# O( n^2)\n",
        "\n",
        "conteo = unaFuncionCualquiera(numeros)\n",
        "\n",
        "print( \"Final:\" , conteo)\n"
      ],
      "execution_count": null,
      "outputs": [
        {
          "output_type": "stream",
          "name": "stdout",
          "text": [
            "La sumatoria de los numeros en la lista es=6 \n",
            "1 1\n",
            "1 2\n",
            "1 3\n",
            "2 1\n",
            "2 2\n",
            "2 3\n",
            "3 1\n",
            "3 2\n",
            "3 3\n",
            "Final: 9\n"
          ]
        }
      ]
    },
    {
      "cell_type": "code",
      "metadata": {
        "colab": {
          "base_uri": "https://localhost:8080/"
        },
        "id": "Vv1hy9Cpl-Mf",
        "outputId": "c6946c3d-7045-44c8-9cf4-f72fceb025c6"
      },
      "source": [
        "numeros = [1,2,3]\n",
        "numeros2 = [4,5,6,7,8]\n",
        "\n",
        "def unaFuncionCualquiera( lista, lista2 ):\n",
        "    conteo = 0 # Orden 1\n",
        "    for numero1 in lista:\n",
        "        for numero2 in lista2:\n",
        "            print(numero1 , numero2 ) #O(n * m)\n",
        "            conteo += 1 #O(n * m)\n",
        "    return conteo\n",
        "# O(1 + 2(n * m))\n",
        "# O((n*m))\n",
        "conteo = unaFuncionCualquiera(numeros, numeros2)\n",
        "\n",
        "print( \"Final:\" , conteo)"
      ],
      "execution_count": null,
      "outputs": [
        {
          "output_type": "stream",
          "name": "stdout",
          "text": [
            "1 4\n",
            "1 5\n",
            "1 6\n",
            "1 7\n",
            "1 8\n",
            "2 4\n",
            "2 5\n",
            "2 6\n",
            "2 7\n",
            "2 8\n",
            "3 4\n",
            "3 5\n",
            "3 6\n",
            "3 7\n",
            "3 8\n",
            "Final: 15\n"
          ]
        }
      ]
    },
    {
      "cell_type": "code",
      "metadata": {
        "colab": {
          "base_uri": "https://localhost:8080/"
        },
        "id": "ZCPJYlU_yb8S",
        "outputId": "0f7ad4da-ad3c-411e-fb4c-02d83140a519"
      },
      "source": [
        "def busqueda_lineal( lista, val_a_buscar ):\n",
        "  contador=0 #o (1)\n",
        "  \n",
        "  for x in range(len(lista)):\n",
        "    contador += 1 # O(n)\n",
        "    if lista[x] == val_a_buscar:\n",
        "      print(f\"Encontrando en la posicion:  {x}\") # O(1)\n",
        "      break\n",
        "  return contador\n",
        " #O(1 + n + 1) --> O(2+n)\n",
        " #O(n)\n",
        "\n",
        "numeros = [2,4,55,44,3,23,65,90,34,66,23]\n",
        "comparaciones = busqueda_lineal(numeros, 3)\n",
        "print(f\"{comparaciones} comparaciones\")"
      ],
      "execution_count": null,
      "outputs": [
        {
          "output_type": "stream",
          "name": "stdout",
          "text": [
            "Encontrando en la posicion  4\n",
            "5 comparaciones\n"
          ]
        }
      ]
    },
    {
      "cell_type": "code",
      "metadata": {
        "id": "hICli-sz6IFU"
      },
      "source": [
        ""
      ],
      "execution_count": null,
      "outputs": []
    }
  ]
}