{
  "nbformat": 4,
  "nbformat_minor": 0,
  "metadata": {
    "colab": {
      "name": "Estrategias_diseño1511.ipynb",
      "provenance": []
    },
    "kernelspec": {
      "name": "python3",
      "display_name": "Python 3"
    },
    "language_info": {
      "name": "python"
    }
  },
  "cells": [
    {
      "cell_type": "markdown",
      "metadata": {
        "id": "mpGEdq8-cJBM"
      },
      "source": [
        "### Busqueda de patrones de texto"
      ]
    },
    {
      "cell_type": "code",
      "metadata": {
        "id": "8_breo6RVykm",
        "colab": {
          "base_uri": "https://localhost:8080/"
        },
        "outputId": "4b753ccc-d34b-48c8-cbed-720478c83c3f"
      },
      "source": [
        "\n",
        "def string_match_brute(A,P):\n",
        "  contador = 0\n",
        "  for i in range( len(A) - len(P) + 1):\n",
        "    for j in range(len(P)):\n",
        "      if P[j] == A[i+j]:\n",
        "        pass\n",
        "      else:\n",
        "        break\n",
        "    if j+1 == len(P) and A[i+j] == P[j]:\n",
        "      contador = contador + 1\n",
        "      print(f\"{P}: Se encontro en la posicion {i}\")\n",
        "  print(f\"{P}: se encontro {contador} veces en el texto\")\n",
        "  \n",
        "entrada = \"hikhdjfljkdkfmkholadsadhola\"\n",
        "#patron = 'hola'\n",
        "#string_match_brute(entrada,patron)\n",
        "P1=[\"hola\",\"sad\"]\n",
        "\n",
        "for c in range (len(P1)):\n",
        "  string_match_brute(entrada,P1[c])\n",
        "\n",
        "\n"
      ],
      "execution_count": null,
      "outputs": [
        {
          "output_type": "stream",
          "name": "stdout",
          "text": [
            "hola: Se encontro en la posicion 15\n",
            "hola: Se encontro en la posicion 23\n",
            "hola: se encontro 2 veces en el texto\n",
            "sad: Se encontro en la posicion 20\n",
            "sad: se encontro 1 veces en el texto\n"
          ]
        }
      ]
    },
    {
      "cell_type": "markdown",
      "metadata": {
        "id": "bIwPxmLMY-E2"
      },
      "source": [
        "### Cifrado cesar"
      ]
    },
    {
      "cell_type": "code",
      "metadata": {
        "colab": {
          "base_uri": "https://localhost:8080/"
        },
        "id": "i6K0O3PrZBmI",
        "outputId": "0e150cd2-ae02-4089-ab65-745ff4400c0a"
      },
      "source": [
        "# Solamente decifrar (Encridatdo esta mal dicho)\n",
        "\n",
        "cifrado = \"dwdfdu\"\n",
        "alfabeto = \"abcdefghijklmnopqrstuvwxyz\"\n",
        "\n",
        "# llave ¿Cuantas posiciones de corrimiento?\n",
        "\n",
        "for llave in range(1,len(alfabeto)):\n",
        "  for i in range(len(cifrado)):\n",
        "    #print(alfabeto.index(cifrado[i]), end = \" \")\n",
        "    index = alfabeto.index(cifrado[i])\n",
        "    print(alfabeto[(index + llave) % 26 ], end = \" \")\n",
        "  print(\"\")\n",
        "\n",
        "\n"
      ],
      "execution_count": null,
      "outputs": [
        {
          "output_type": "stream",
          "name": "stdout",
          "text": [
            "e x e g e v \n",
            "f y f h f w \n",
            "g z g i g x \n",
            "h a h j h y \n",
            "i b i k i z \n",
            "j c j l j a \n",
            "k d k m k b \n",
            "l e l n l c \n",
            "m f m o m d \n",
            "n g n p n e \n",
            "o h o q o f \n",
            "p i p r p g \n",
            "q j q s q h \n",
            "r k r t r i \n",
            "s l s u s j \n",
            "t m t v t k \n",
            "u n u w u l \n",
            "v o v x v m \n",
            "w p w y w n \n",
            "x q x z x o \n",
            "y r y a y p \n",
            "z s z b z q \n",
            "a t a c a r \n",
            "b u b d b s \n",
            "c v c e c t \n"
          ]
        }
      ]
    },
    {
      "cell_type": "code",
      "metadata": {
        "colab": {
          "base_uri": "https://localhost:8080/"
        },
        "id": "0PKw8wiWgBv_",
        "outputId": "20924d00-4b7e-4781-a0af-91b8046a3b00"
      },
      "source": [
        "cifrado = \"zg gzhv lpz vidhv v gv pidqzmndyvy ivxdjivg, kjm hd mvuv cvwgvmá zg znkímdop, mzqzgv gv qjxvxdói cphviínodxv xji gv lpz apz xjixzwdyv. zg vpojm yz znov xégzwmz amvnz, ejné qvnxjixzgjn, vnphdó gv mzxojmív zi 1920, zi piv ékjxv zi lpz gvn znkzmviuvn yz gv mzqjgpxdói vúi znovwvi qdqvn, cvwív piv bmvi aé zi gv kvomdv t zg áidhj mzyziojm nz zsoziyív zi zg vhwdzioz.\"\n",
        "alfabeto = \"abcdefghijklmnopqrstuvwxyz\"\n",
        "sp = [\"ba\",\"be\",\"bi\",\"bo\",\"bu\",\"ca\",\"ce\",\"ci\",\"la\",\"el\"]\n",
        "txt = []\n",
        "final = []\n",
        "n = (len(cifrado))  \n",
        "# llave ¿Cuantas posiciones de corrimiento?\n",
        "\n",
        "for llave in range(1,len(alfabeto)+1):\n",
        "  for i in range(len(cifrado)):\n",
        "    if (cifrado[i] in alfabeto): \n",
        "      #print(alfabeto.index(cifrado[i]), end = \" \")\n",
        "      index = alfabeto.index(cifrado[i])\n",
        "      txt.append(alfabeto[(index + llave) % 26 ])\n",
        "      \n",
        "    else:\n",
        "      txt.append(cifrado[i])\n",
        "\n",
        "for j in range(llave):\n",
        "  final.append(txt[n*j:n*(j+1):])\n",
        "  final[j] = \"\".join(final[j])\n",
        "  #print(final[j])\n",
        "  \n",
        "  if (final[j] != 0):\n",
        "    print(j,final[j])\n",
        "\n",
        "#print(\"\")\n",
        "\n",
        "#print(final[4])"
      ],
      "execution_count": null,
      "outputs": [
        {
          "output_type": "stream",
          "name": "stdout",
          "text": [
            "0 ah haiw mqa wjeiw w hw qjeranoezwz jwyekjwh, lkn ie nwvw dwxhwná ah aolínepq, narahw hw rkywyeój dqiwjíopeyw ykj hw mqa bqa ykjyaxezw. ah wqpkn za aopw yéhaxna bnwoa, fkoé rwoykjyahko, woqieó hw naypkníw aj 1920, aj qjw élkyw aj mqa hwo aolanwjvwo za hw narkhqyeój wúj aopwxwj rerwo, dwxíw qjw cnwj bé aj hw lwpnew u ah ájeik nazajpkn oa atpajzíw aj ah wixeajpa.\n",
            "1 bi ibjx nrb xkfjx x ix rkfsbopfaxa kxzflkxi, mlo jf oxwx exyixoá bi bpmíofqr, obsbix ix slzxzfók erjxkípqfzx zlk ix nrb crb zlkzbyfax. bi xrqlo ab bpqx zéibyob coxpb, glpé sxpzlkzbilp, xprjfó ix obzqloíx bk 1920, bk rkx émlzx bk nrb ixp bpmboxkwxp ab ix obslirzfók xúk bpqxyxk sfsxp, exyíx rkx doxk cé bk ix mxqofx v bi ákfjl obabkqlo pb buqbkaíx bk bi xjyfbkqb.\n",
            "2 cj jcky osc ylgky y jy slgtcpqgbyb lyagmlyj, nmp kg pyxy fyzjypá cj cqnípgrs, pctcjy jy tmayagól fskylíqrgay aml jy osc dsc amlaczgby. cj ysrmp bc cqry aéjczpc dpyqc, hmqé tyqamlacjmq, yqskgó jy pcarmpíy cl 1920, cl sly énmay cl osc jyq cqncpylxyq bc jy pctmjsagól yúl cqryzyl tgtyq, fyzíy sly epyl dé cl jy nyrpgy w cj álgkm pcbclrmp qc cvrclbíy cl cj ykzgclrc.\n",
            "3 dk kdlz ptd zmhlz z kz tmhudqrhczc mzbhnmzk, onq lh qzyz gzakzqá dk droíqhst, qdudkz kz unbzbhóm gtlzmírshbz bnm kz ptd etd bnmbdahcz. dk ztsnq cd drsz békdaqd eqzrd, inré uzrbnmbdknr, zrtlhó kz qdbsnqíz dm 1920, dm tmz éonbz dm ptd kzr drodqzmyzr cd kz qdunktbhóm zúm drszazm uhuzr, gzaíz tmz fqzm eé dm kz ozsqhz x dk ámhln qdcdmsnq rd dwsdmcíz dm dk zlahdmsd.\n",
            "4 el lema que anima a la universidad nacional, por mi raza hablará el espíritu, revela la vocación humanística con la que fue concebida. el autor de esta célebre frase, josé vasconcelos, asumió la rectoría en 1920, en una época en que las esperanzas de la revolución aún estaban vivas, había una gran fé en la patria y el ánimo redentor se extendía en el ambiente.\n",
            "5 fm mfnb rvf bojnb b mb vojwfstjebe obdjpobm, qps nj sbab ibcmbsá fm ftqísjuv, sfwfmb mb wpdbdjóo ivnboítujdb dpo mb rvf gvf dpodfcjeb. fm bvups ef ftub démfcsf gsbtf, kpté wbtdpodfmpt, btvnjó mb sfdupsíb fo 1920, fo vob éqpdb fo rvf mbt ftqfsboabt ef mb sfwpmvdjóo búo ftubcbo wjwbt, ibcíb vob hsbo gé fo mb qbusjb z fm áojnp sfefoups tf fyufoeíb fo fm bncjfouf.\n",
            "6 gn ngoc swg cpkoc c nc wpkxgtukfcf pcekqpcn, rqt ok tcbc jcdnctá gn gurítkvw, tgxgnc nc xqecekóp jwocpíuvkec eqp nc swg hwg eqpegdkfc. gn cwvqt fg guvc eéngdtg htcug, lqué xcueqpegnqu, cuwokó nc tgevqtíc gp 1920, gp wpc érqec gp swg ncu gurgtcpbcu fg nc tgxqnwekóp cúp guvcdcp xkxcu, jcdíc wpc itcp hé gp nc rcvtkc a gn ápkoq tgfgpvqt ug gzvgpfíc gp gn codkgpvg.\n",
            "7 ho ohpd txh dqlpd d od xqlyhuvlgdg qdflrqdo, sru pl udcd kdeoduá ho hvsíulwx, uhyhod od yrfdflóq kxpdqívwlfd frq od txh ixh frqfhelgd. ho dxwru gh hvwd féoheuh iudvh, mrvé ydvfrqfhorv, dvxpló od uhfwruíd hq 1920, hq xqd ésrfd hq txh odv hvshudqcdv gh od uhyroxflóq dúq hvwdedq ylydv, kdeíd xqd judq ié hq od sdwuld b ho áqlpr uhghqwru vh hawhqgíd hq ho dpelhqwh.\n",
            "8 ip piqe uyi ermqe e pe yrmzivwmheh regmsrep, tsv qm vede lefpevá ip iwtívmxy, vizipe pe zsgegmór lyqeríwxmge gsr pe uyi jyi gsrgifmhe. ip eyxsv hi iwxe gépifvi jvewi, nswé zewgsrgipsw, ewyqmó pe vigxsvíe ir 1920, ir yre étsge ir uyi pew iwtiverdew hi pe vizspygmór eúr iwxefer zmzew, lefíe yre kver jé ir pe texvme c ip ármqs vihirxsv wi ibxirhíe ir ip eqfmirxi.\n",
            "9 jq qjrf vzj fsnrf f qf zsnajwxnifi sfhntsfq, utw rn wfef mfgqfwá jq jxuíwnyz, wjajqf qf athfhnós mzrfsíxynhf hts qf vzj kzj htshjgnif. jq fzytw ij jxyf héqjgwj kwfxj, otxé afxhtshjqtx, fxzrnó qf wjhytwíf js 1920, js zsf éuthf js vzj qfx jxujwfsefx ij qf wjatqzhnós fús jxyfgfs anafx, mfgíf zsf lwfs ké js qf ufywnf d jq ásnrt wjijsytw xj jcyjsiíf js jq frgnjsyj.\n",
            "10 kr rksg wak gtosg g rg atobkxyojgj tgioutgr, vux so xgfg nghrgxá kr kyvíxoza, xkbkrg rg buigioót nasgtíyzoig iut rg wak lak iutikhojg. kr gazux jk kyzg iérkhxk lxgyk, puyé bgyiutikruy, gyasoó rg xkizuxíg kt 1920, kt atg évuig kt wak rgy kyvkxgtfgy jk rg xkburaioót gút kyzghgt bobgy, nghíg atg mxgt lé kt rg vgzxog e kr átosu xkjktzux yk kdzktjíg kt kr gshoktzk.\n",
            "11 ls slth xbl hupth h sh bupclyzpkhk uhjpvuhs, wvy tp yhgh ohishyá ls lzwíypab, ylclsh sh cvjhjpóu obthuízapjh jvu sh xbl mbl jvujlipkh. ls hbavy kl lzah jésliyl myhzl, qvzé chzjvujlsvz, hzbtpó sh yljavyíh lu 1920, lu buh éwvjh lu xbl shz lzwlyhughz kl sh ylcvsbjpóu húu lzahihu cpchz, ohiíh buh nyhu mé lu sh whayph f ls áuptv ylkluavy zl lealukíh lu ls htiplual.\n",
            "12 mt tmui ycm ivqui i ti cvqdmzaqlil vikqwvit, xwz uq zihi pijtizá mt maxízqbc, zmdmti ti dwkikqóv pcuivíabqki kwv ti ycm ncm kwvkmjqli. mt icbwz lm mabi kétmjzm nziam, rwaé diakwvkmtwa, iacuqó ti zmkbwzíi mv 1920, mv cvi éxwki mv ycm tia maxmzivhia lm ti zmdwtckqóv iúv mabijiv dqdia, pijíi cvi oziv né mv ti xibzqi g mt ávquw zmlmvbwz am mfbmvlíi mv mt iujqmvbm.\n",
            "13 nu unvj zdn jwrvj j uj dwrenabrmjm wjlrxwju, yxa vr ajij qjkujaá nu nbyíarcd, anenuj uj exljlrów qdvjwíbcrlj lxw uj zdn odn lxwlnkrmj. nu jdcxa mn nbcj léunkan oajbn, sxbé ejblxwlnuxb, jbdvró uj anlcxaíj nw 1920, nw dwj éyxlj nw zdn ujb nbynajwijb mn uj anexudlrów júw nbcjkjw erejb, qjkíj dwj pajw oé nw uj yjcarj h nu áwrvx anmnwcxa bn ngcnwmíj nw nu jvkrnwcn.\n",
            "14 ov vowk aeo kxswk k vk exsfobcsnkn xkmsyxkv, zyb ws bkjk rklvkbá ov oczíbsde, bofovk vk fymkmsóx rewkxícdsmk myx vk aeo peo myxmolsnk. ov kedyb no ocdk mévolbo pbkco, tycé fkcmyxmovyc, kcewsó vk bomdybík ox 1920, ox exk ézymk ox aeo vkc oczobkxjkc no vk bofyvemsóx kúx ocdklkx fsfkc, rklík exk qbkx pé ox vk zkdbsk i ov áxswy bonoxdyb co ohdoxník ox ov kwlsoxdo.\n",
            "15 pw wpxl bfp lytxl l wl fytgpcdtolo ylntzylw, azc xt clkl slmwlcá pw pdaíctef, cpgpwl wl gznlntóy sfxlyídetnl nzy wl bfp qfp nzynpmtol. pw lfezc op pdel néwpmcp qcldp, uzdé gldnzynpwzd, ldfxtó wl cpnezcíl py 1920, py fyl éaznl py bfp wld pdapclykld op wl cpgzwfntóy lúy pdelmly gtgld, slmíl fyl rcly qé py wl alectl j pw áytxz cpopyezc dp piepyoíl py pw lxmtpyep.\n",
            "16 qx xqym cgq mzuym m xm gzuhqdeupmp zmouazmx, bad yu dmlm tmnxmdá qx qebídufg, dqhqxm xm haomouóz tgymzíefuom oaz xm cgq rgq oazoqnupm. qx mgfad pq qefm oéxqndq rdmeq, vaeé hmeoazoqxae, megyuó xm dqofadím qz 1920, qz gzm ébaom qz cgq xme qebqdmzlme pq xm dqhaxgouóz múz qefmnmz huhme, tmním gzm sdmz ré qz xm bmfdum k qx ázuya dqpqzfad eq qjfqzpím qz qx mynuqzfq.\n",
            "17 ry yrzn dhr navzn n yn havirefvqnq anpvbany, cbe zv enmn unoyneá ry rfcíevgh, eriryn yn ibpnpvóa uhznaífgvpn pba yn dhr shr pbaprovqn. ry nhgbe qr rfgn péyroer senfr, wbfé infpbaprybf, nfhzvó yn erpgbeín ra 1920, ra han écbpn ra dhr ynf rfcrenamnf qr yn eribyhpvóa núa rfgnona ivinf, unoín han tena sé ra yn cngevn l ry áavzb erqragbe fr rkgraqín ra ry nzovragr.\n",
            "18 sz zsao eis obwao o zo ibwjsfgwror boqwcboz, dcf aw fono vopzofá sz sgdífwhi, fsjszo zo jcqoqwób viaobíghwqo qcb zo eis tis qcbqspwro. sz oihcf rs sgho qézspfs tfogs, xcgé jogqcbqszcg, ogiawó zo fsqhcfío sb 1920, sb ibo édcqo sb eis zog sgdsfobnog rs zo fsjcziqwób oúb sghopob jwjog, vopío ibo ufob té sb zo dohfwo m sz ábwac fsrsbhcf gs slhsbrío sb sz oapwsbhs.\n",
            "19 ta atbp fjt pcxbp p ap jcxktghxsps cprxdcpa, edg bx gpop wpqapgá ta theígxij, gtktap ap kdrprxóc wjbpcíhixrp rdc ap fjt ujt rdcrtqxsp. ta pjidg st thip réatqgt ugpht, ydhé kphrdcrtadh, phjbxó ap gtridgíp tc 1920, tc jcp éedrp tc fjt aph thetgpcoph st ap gtkdajrxóc púc thipqpc kxkph, wpqíp jcp vgpc ué tc ap epigxp n ta ácxbd gtstcidg ht tmitcsíp tc ta pbqxtcit.\n",
            "20 ub bucq gku qdycq q bq kdyluhiytqt dqsyedqb, feh cy hqpq xqrbqhá ub uifíhyjk, hulubq bq lesqsyód xkcqdíijysq sed bq gku vku sedsurytq. ub qkjeh tu uijq séburhu vhqiu, zeié lqisedsubei, qikcyó bq husjehíq ud 1920, ud kdq éfesq ud gku bqi uifuhqdpqi tu bq hulebksyód qúd uijqrqd lylqi, xqríq kdq whqd vé ud bq fqjhyq o ub ádyce hutudjeh iu unjudtíq ud ub qcryudju.\n",
            "21 vc cvdr hlv rezdr r cr lezmvijzuru ertzferc, gfi dz irqr yrscriá vc vjgíizkl, ivmvcr cr mftrtzóe yldreíjkztr tfe cr hlv wlv tfetvszur. vc rlkfi uv vjkr técvsiv wirjv, afjé mrjtfetvcfj, rjldzó cr ivtkfiír ve 1920, ve ler égftr ve hlv crj vjgvireqrj uv cr ivmfcltzóe rúe vjkrsre mzmrj, yrsír ler xire wé ve cr grkizr p vc áezdf ivuvekfi jv vokveuír ve vc rdszvekv.\n",
            "22 wd dwes imw sfaes s ds mfanwjkavsv fsuagfsd, hgj ea jsrs zstdsjá wd wkhíjalm, jwnwds ds ngusuaóf zmesfíklaus ugf ds imw xmw ugfuwtavs. wd smlgj vw wkls uédwtjw xjskw, bgké nskugfuwdgk, skmeaó ds jwulgjís wf 1920, wf mfs éhgus wf imw dsk wkhwjsfrsk vw ds jwngdmuaóf súf wklstsf nansk, zstís mfs yjsf xé wf ds hsljas q wd áfaeg jwvwflgj kw wplwfvís wf wd setawflw.\n",
            "23 xe exft jnx tgbft t et ngboxklbwtw gtvbhgte, ihk fb ktst atuetká xe xliíkbmn, kxoxet et ohvtvbóg anftgílmbvt vhg et jnx ynx vhgvxubwt. xe tnmhk wx xlmt véexukx yktlx, chlé otlvhgvxehl, tlnfbó et kxvmhkít xg 1920, xg ngt éihvt xg jnx etl xlixktgstl wx et kxohenvbóg túg xlmtutg obotl, atuít ngt zktg yé xg et itmkbt r xe ágbfh kxwxgmhk lx xqmxgwít xg xe tfubxgmx.\n",
            "24 yf fygu koy uhcgu u fu ohcpylmcxux huwcihuf, jil gc lutu buvfulá yf ymjílcno, lypyfu fu piwuwcóh boguhímncwu wih fu koy zoy wihwyvcxu. yf uonil xy ymnu wéfyvly zlumy, dimé pumwihwyfim, umogcó fu lywnilíu yh 1920, yh ohu éjiwu yh koy fum ymjyluhtum xy fu lypifowcóh uúh ymnuvuh pcpum, buvíu ohu aluh zé yh fu junlcu s yf áhcgi lyxyhnil my yrnyhxíu yh yf ugvcyhny.\n",
            "25 zg gzhv lpz vidhv v gv pidqzmndyvy ivxdjivg, kjm hd mvuv cvwgvmá zg znkímdop, mzqzgv gv qjxvxdói cphviínodxv xji gv lpz apz xjixzwdyv. zg vpojm yz znov xégzwmz amvnz, ejné qvnxjixzgjn, vnphdó gv mzxojmív zi 1920, zi piv ékjxv zi lpz gvn znkzmviuvn yz gv mzqjgpxdói vúi znovwvi qdqvn, cvwív piv bmvi aé zi gv kvomdv t zg áidhj mzyziojm nz zsoziyív zi zg vhwdzioz.\n"
          ]
        }
      ]
    },
    {
      "cell_type": "markdown",
      "metadata": {
        "id": "RhgdP5jpmKgr"
      },
      "source": [
        "###"
      ]
    },
    {
      "cell_type": "code",
      "metadata": {
        "colab": {
          "base_uri": "https://localhost:8080/",
          "height": 354
        },
        "id": "B8oXd6-dmLBO",
        "outputId": "1983c6c2-a952-4bab-a93a-8815c746211c"
      },
      "source": [
        "from matplotlib import  pyplot as plt \n",
        "import random\n",
        "import math\n",
        "\n",
        "pares = []\n",
        "for i in range(20):\n",
        "  pares.append([random.randint(1,100), random.randint(1,100)])\n",
        "print(pares)\n",
        "\n",
        "for par in pares:\n",
        "    plt.scatter(par[0],par[1] , s=3 ,c=\"k\"  )\n",
        "#resultado = math.sqrt((pow(((x2-x1)),2))+(pow(((y2-y1)),2)))\n",
        "\n",
        "def distancia(p1,p2): # pares p1 =[100, 34] p2 = [27,37]\n",
        "  dis = math.sqrt((pow(((p2[0]-p1[0])),2))+(pow(((p2[1]-p1[1])),2)))\n",
        "  return dis\n",
        "print(distancia([100,34],[27,37]))\n",
        "\n",
        "menor = 99999\n",
        "d = 0\n",
        "par_menor = []\n",
        "for i in range(len(pares)):\n",
        "  for j in range(len(pares)):\n",
        "    d = distancia(pares[i], pares[j])\n",
        "    if d < menor and d != 0.0:\n",
        "      menor = d\n",
        "      par_menor.clear()\n",
        "      par_menor.append(pares[i])\n",
        "      par_menor.append(pares[j])\n",
        "print(menor)\n",
        "print(par_menor[0],par_menor[1])\n"
      ],
      "execution_count": null,
      "outputs": [
        {
          "output_type": "stream",
          "name": "stdout",
          "text": [
            "[[12, 8], [82, 54], [12, 89], [81, 33], [58, 94], [67, 58], [78, 59], [24, 32], [98, 74], [97, 46], [28, 53], [37, 98], [81, 87], [16, 54], [78, 26], [94, 6], [56, 87], [88, 16], [85, 93], [30, 45]]\n",
            "73.06161783043132\n",
            "6.4031242374328485\n",
            "[82, 54] [78, 59]\n"
          ]
        },
        {
          "output_type": "display_data",
          "data": {
            "image/png": "[encoded data removed]",
            "text/plain": [
              "<Figure size 432x288 with 1 Axes>"
            ]
          },
          "metadata": {
            "needs_background": "light"
          }
        }
      ]
    },
    {
      "cell_type": "markdown",
      "metadata": {
        "id": "7aU8o-1ioe8L"
      },
      "source": [
        "### "
      ]
    },
    {
      "cell_type": "code",
      "metadata": {
        "colab": {
          "base_uri": "https://localhost:8080/"
        },
        "id": "OZ56F6cchLYt",
        "outputId": "894c9a89-621c-4498-c397-d0945bdb62bb"
      },
      "source": [
        "# Buscar el elemneto mas grande dentro de un array (lista)\n",
        "\n",
        "def maximo_recursivo( data ):\n",
        "  if len(data) == 2:\n",
        "    return data[0] if data[0]>data[1]  else data[1]\n",
        "  elif len(data) == 1:\n",
        "    return data[0]\n",
        "  else:\n",
        "    mid = len(data)//2\n",
        "    I = maximo_recursivo(data[:mid:])\n",
        "    D = maximo_recursivo(data[mid::])\n",
        "    return I if I>D else D\n",
        "\n",
        "info = [2,3,1,13,44,12,323,45,23,54,63,21,4,5,33,75]\n",
        "print(maximo_recursivo(info)) "
      ],
      "execution_count": 2,
      "outputs": [
        {
          "output_type": "stream",
          "name": "stdout",
          "text": [
            "323\n"
          ]
        }
      ]
    }
  ]
}